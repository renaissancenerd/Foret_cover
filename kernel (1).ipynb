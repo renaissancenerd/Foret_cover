{
  "cells": [
    {
      "metadata": {
        "_cell_guid": "79c7e3d0-c299-4dcb-8224-4455121ee9b0",
        "_uuid": "d629ff2d2480ee46fbb7e2d37f6b5fab8052498a",
        "trusted": true
      },
      "cell_type": "code",
      "source": "import pandas as pd\nimport numpy as np\nimport matplotlib.pyplot as plt\nimport time",
      "execution_count": 1,
      "outputs": []
    },
    {
      "metadata": {
        "trusted": true,
        "_uuid": "5c589cfd4746a2bf412c682b26a515f03de81c28"
      },
      "cell_type": "code",
      "source": "df=pd.read_csv('../input/covtype.csv')",
      "execution_count": 2,
      "outputs": []
    },
    {
      "metadata": {
        "trusted": true,
        "_uuid": "df176e7360820b4e7ae5c7c590c0cfa85bb6d3fd"
      },
      "cell_type": "code",
      "source": "df.head()",
      "execution_count": 3,
      "outputs": [
        {
          "output_type": "execute_result",
          "execution_count": 3,
          "data": {
            "text/plain": "   Elevation  Aspect  Slope     ...      Soil_Type39  Soil_Type40  Cover_Type\n0       2596      51      3     ...                0            0           5\n1       2590      56      2     ...                0            0           5\n2       2804     139      9     ...                0            0           2\n3       2785     155     18     ...                0            0           2\n4       2595      45      2     ...                0            0           5\n\n[5 rows x 55 columns]",
            "text/html": "<div>\n<style scoped>\n    .dataframe tbody tr th:only-of-type {\n        vertical-align: middle;\n    }\n\n    .dataframe tbody tr th {\n        vertical-align: top;\n    }\n\n    .dataframe thead th {\n        text-align: right;\n    }\n</style>\n<table border=\"1\" class=\"dataframe\">\n  <thead>\n    <tr style=\"text-align: right;\">\n      <th></th>\n      <th>Elevation</th>\n      <th>Aspect</th>\n      <th>Slope</th>\n      <th>Horizontal_Distance_To_Hydrology</th>\n      <th>Vertical_Distance_To_Hydrology</th>\n      <th>Horizontal_Distance_To_Roadways</th>\n      <th>Hillshade_9am</th>\n      <th>Hillshade_Noon</th>\n      <th>Hillshade_3pm</th>\n      <th>Horizontal_Distance_To_Fire_Points</th>\n      <th>Wilderness_Area1</th>\n      <th>Wilderness_Area2</th>\n      <th>Wilderness_Area3</th>\n      <th>Wilderness_Area4</th>\n      <th>Soil_Type1</th>\n      <th>Soil_Type2</th>\n      <th>Soil_Type3</th>\n      <th>Soil_Type4</th>\n      <th>Soil_Type5</th>\n      <th>Soil_Type6</th>\n      <th>Soil_Type7</th>\n      <th>Soil_Type8</th>\n      <th>Soil_Type9</th>\n      <th>Soil_Type10</th>\n      <th>Soil_Type11</th>\n      <th>Soil_Type12</th>\n      <th>Soil_Type13</th>\n      <th>Soil_Type14</th>\n      <th>Soil_Type15</th>\n      <th>Soil_Type16</th>\n      <th>Soil_Type17</th>\n      <th>Soil_Type18</th>\n      <th>Soil_Type19</th>\n      <th>Soil_Type20</th>\n      <th>Soil_Type21</th>\n      <th>Soil_Type22</th>\n      <th>Soil_Type23</th>\n      <th>Soil_Type24</th>\n      <th>Soil_Type25</th>\n      <th>Soil_Type26</th>\n      <th>Soil_Type27</th>\n      <th>Soil_Type28</th>\n      <th>Soil_Type29</th>\n      <th>Soil_Type30</th>\n      <th>Soil_Type31</th>\n      <th>Soil_Type32</th>\n      <th>Soil_Type33</th>\n      <th>Soil_Type34</th>\n      <th>Soil_Type35</th>\n      <th>Soil_Type36</th>\n      <th>Soil_Type37</th>\n      <th>Soil_Type38</th>\n      <th>Soil_Type39</th>\n      <th>Soil_Type40</th>\n      <th>Cover_Type</th>\n    </tr>\n  </thead>\n  <tbody>\n    <tr>\n      <th>0</th>\n      <td>2596</td>\n      <td>51</td>\n      <td>3</td>\n      <td>258</td>\n      <td>0</td>\n      <td>510</td>\n      <td>221</td>\n      <td>232</td>\n      <td>148</td>\n      <td>6279</td>\n      <td>1</td>\n      <td>0</td>\n      <td>0</td>\n      <td>0</td>\n      <td>0</td>\n      <td>0</td>\n      <td>0</td>\n      <td>0</td>\n      <td>0</td>\n      <td>0</td>\n      <td>0</td>\n      <td>0</td>\n      <td>0</td>\n      <td>0</td>\n      <td>0</td>\n      <td>0</td>\n      <td>0</td>\n      <td>0</td>\n      <td>0</td>\n      <td>0</td>\n      <td>0</td>\n      <td>0</td>\n      <td>0</td>\n      <td>0</td>\n      <td>0</td>\n      <td>0</td>\n      <td>0</td>\n      <td>0</td>\n      <td>0</td>\n      <td>0</td>\n      <td>0</td>\n      <td>0</td>\n      <td>1</td>\n      <td>0</td>\n      <td>0</td>\n      <td>0</td>\n      <td>0</td>\n      <td>0</td>\n      <td>0</td>\n      <td>0</td>\n      <td>0</td>\n      <td>0</td>\n      <td>0</td>\n      <td>0</td>\n      <td>5</td>\n    </tr>\n    <tr>\n      <th>1</th>\n      <td>2590</td>\n      <td>56</td>\n      <td>2</td>\n      <td>212</td>\n      <td>-6</td>\n      <td>390</td>\n      <td>220</td>\n      <td>235</td>\n      <td>151</td>\n      <td>6225</td>\n      <td>1</td>\n      <td>0</td>\n      <td>0</td>\n      <td>0</td>\n      <td>0</td>\n      <td>0</td>\n      <td>0</td>\n      <td>0</td>\n      <td>0</td>\n      <td>0</td>\n      <td>0</td>\n      <td>0</td>\n      <td>0</td>\n      <td>0</td>\n      <td>0</td>\n      <td>0</td>\n      <td>0</td>\n      <td>0</td>\n      <td>0</td>\n      <td>0</td>\n      <td>0</td>\n      <td>0</td>\n      <td>0</td>\n      <td>0</td>\n      <td>0</td>\n      <td>0</td>\n      <td>0</td>\n      <td>0</td>\n      <td>0</td>\n      <td>0</td>\n      <td>0</td>\n      <td>0</td>\n      <td>1</td>\n      <td>0</td>\n      <td>0</td>\n      <td>0</td>\n      <td>0</td>\n      <td>0</td>\n      <td>0</td>\n      <td>0</td>\n      <td>0</td>\n      <td>0</td>\n      <td>0</td>\n      <td>0</td>\n      <td>5</td>\n    </tr>\n    <tr>\n      <th>2</th>\n      <td>2804</td>\n      <td>139</td>\n      <td>9</td>\n      <td>268</td>\n      <td>65</td>\n      <td>3180</td>\n      <td>234</td>\n      <td>238</td>\n      <td>135</td>\n      <td>6121</td>\n      <td>1</td>\n      <td>0</td>\n      <td>0</td>\n      <td>0</td>\n      <td>0</td>\n      <td>0</td>\n      <td>0</td>\n      <td>0</td>\n      <td>0</td>\n      <td>0</td>\n      <td>0</td>\n      <td>0</td>\n      <td>0</td>\n      <td>0</td>\n      <td>0</td>\n      <td>1</td>\n      <td>0</td>\n      <td>0</td>\n      <td>0</td>\n      <td>0</td>\n      <td>0</td>\n      <td>0</td>\n      <td>0</td>\n      <td>0</td>\n      <td>0</td>\n      <td>0</td>\n      <td>0</td>\n      <td>0</td>\n      <td>0</td>\n      <td>0</td>\n      <td>0</td>\n      <td>0</td>\n      <td>0</td>\n      <td>0</td>\n      <td>0</td>\n      <td>0</td>\n      <td>0</td>\n      <td>0</td>\n      <td>0</td>\n      <td>0</td>\n      <td>0</td>\n      <td>0</td>\n      <td>0</td>\n      <td>0</td>\n      <td>2</td>\n    </tr>\n    <tr>\n      <th>3</th>\n      <td>2785</td>\n      <td>155</td>\n      <td>18</td>\n      <td>242</td>\n      <td>118</td>\n      <td>3090</td>\n      <td>238</td>\n      <td>238</td>\n      <td>122</td>\n      <td>6211</td>\n      <td>1</td>\n      <td>0</td>\n      <td>0</td>\n      <td>0</td>\n      <td>0</td>\n      <td>0</td>\n      <td>0</td>\n      <td>0</td>\n      <td>0</td>\n      <td>0</td>\n      <td>0</td>\n      <td>0</td>\n      <td>0</td>\n      <td>0</td>\n      <td>0</td>\n      <td>0</td>\n      <td>0</td>\n      <td>0</td>\n      <td>0</td>\n      <td>0</td>\n      <td>0</td>\n      <td>0</td>\n      <td>0</td>\n      <td>0</td>\n      <td>0</td>\n      <td>0</td>\n      <td>0</td>\n      <td>0</td>\n      <td>0</td>\n      <td>0</td>\n      <td>0</td>\n      <td>0</td>\n      <td>0</td>\n      <td>1</td>\n      <td>0</td>\n      <td>0</td>\n      <td>0</td>\n      <td>0</td>\n      <td>0</td>\n      <td>0</td>\n      <td>0</td>\n      <td>0</td>\n      <td>0</td>\n      <td>0</td>\n      <td>2</td>\n    </tr>\n    <tr>\n      <th>4</th>\n      <td>2595</td>\n      <td>45</td>\n      <td>2</td>\n      <td>153</td>\n      <td>-1</td>\n      <td>391</td>\n      <td>220</td>\n      <td>234</td>\n      <td>150</td>\n      <td>6172</td>\n      <td>1</td>\n      <td>0</td>\n      <td>0</td>\n      <td>0</td>\n      <td>0</td>\n      <td>0</td>\n      <td>0</td>\n      <td>0</td>\n      <td>0</td>\n      <td>0</td>\n      <td>0</td>\n      <td>0</td>\n      <td>0</td>\n      <td>0</td>\n      <td>0</td>\n      <td>0</td>\n      <td>0</td>\n      <td>0</td>\n      <td>0</td>\n      <td>0</td>\n      <td>0</td>\n      <td>0</td>\n      <td>0</td>\n      <td>0</td>\n      <td>0</td>\n      <td>0</td>\n      <td>0</td>\n      <td>0</td>\n      <td>0</td>\n      <td>0</td>\n      <td>0</td>\n      <td>0</td>\n      <td>1</td>\n      <td>0</td>\n      <td>0</td>\n      <td>0</td>\n      <td>0</td>\n      <td>0</td>\n      <td>0</td>\n      <td>0</td>\n      <td>0</td>\n      <td>0</td>\n      <td>0</td>\n      <td>0</td>\n      <td>5</td>\n    </tr>\n  </tbody>\n</table>\n</div>"
          },
          "metadata": {}
        }
      ]
    },
    {
      "metadata": {
        "trusted": true,
        "_uuid": "d1c2164339c4bac725375e4715ab4b4d2589fd04"
      },
      "cell_type": "code",
      "source": "print('Number of samples:',len(df))",
      "execution_count": 4,
      "outputs": [
        {
          "output_type": "stream",
          "text": "Number of samples: 581012\n",
          "name": "stdout"
        }
      ]
    },
    {
      "metadata": {
        "trusted": true,
        "_uuid": "a66a450e4f989661495493673a7757af0bbcec3e"
      },
      "cell_type": "code",
      "source": "df.info()",
      "execution_count": 5,
      "outputs": [
        {
          "output_type": "stream",
          "text": "<class 'pandas.core.frame.DataFrame'>\nRangeIndex: 581012 entries, 0 to 581011\nData columns (total 55 columns):\nElevation                             581012 non-null int64\nAspect                                581012 non-null int64\nSlope                                 581012 non-null int64\nHorizontal_Distance_To_Hydrology      581012 non-null int64\nVertical_Distance_To_Hydrology        581012 non-null int64\nHorizontal_Distance_To_Roadways       581012 non-null int64\nHillshade_9am                         581012 non-null int64\nHillshade_Noon                        581012 non-null int64\nHillshade_3pm                         581012 non-null int64\nHorizontal_Distance_To_Fire_Points    581012 non-null int64\nWilderness_Area1                      581012 non-null int64\nWilderness_Area2                      581012 non-null int64\nWilderness_Area3                      581012 non-null int64\nWilderness_Area4                      581012 non-null int64\nSoil_Type1                            581012 non-null int64\nSoil_Type2                            581012 non-null int64\nSoil_Type3                            581012 non-null int64\nSoil_Type4                            581012 non-null int64\nSoil_Type5                            581012 non-null int64\nSoil_Type6                            581012 non-null int64\nSoil_Type7                            581012 non-null int64\nSoil_Type8                            581012 non-null int64\nSoil_Type9                            581012 non-null int64\nSoil_Type10                           581012 non-null int64\nSoil_Type11                           581012 non-null int64\nSoil_Type12                           581012 non-null int64\nSoil_Type13                           581012 non-null int64\nSoil_Type14                           581012 non-null int64\nSoil_Type15                           581012 non-null int64\nSoil_Type16                           581012 non-null int64\nSoil_Type17                           581012 non-null int64\nSoil_Type18                           581012 non-null int64\nSoil_Type19                           581012 non-null int64\nSoil_Type20                           581012 non-null int64\nSoil_Type21                           581012 non-null int64\nSoil_Type22                           581012 non-null int64\nSoil_Type23                           581012 non-null int64\nSoil_Type24                           581012 non-null int64\nSoil_Type25                           581012 non-null int64\nSoil_Type26                           581012 non-null int64\nSoil_Type27                           581012 non-null int64\nSoil_Type28                           581012 non-null int64\nSoil_Type29                           581012 non-null int64\nSoil_Type30                           581012 non-null int64\nSoil_Type31                           581012 non-null int64\nSoil_Type32                           581012 non-null int64\nSoil_Type33                           581012 non-null int64\nSoil_Type34                           581012 non-null int64\nSoil_Type35                           581012 non-null int64\nSoil_Type36                           581012 non-null int64\nSoil_Type37                           581012 non-null int64\nSoil_Type38                           581012 non-null int64\nSoil_Type39                           581012 non-null int64\nSoil_Type40                           581012 non-null int64\nCover_Type                            581012 non-null int64\ndtypes: int64(55)\nmemory usage: 243.8 MB\n",
          "name": "stdout"
        }
      ]
    },
    {
      "metadata": {
        "trusted": true,
        "_uuid": "12f5fd5fab547824e9535fb6180e6108964c4ed4"
      },
      "cell_type": "code",
      "source": "df.groupby('Cover_Type').size()",
      "execution_count": 6,
      "outputs": [
        {
          "output_type": "execute_result",
          "execution_count": 6,
          "data": {
            "text/plain": "Cover_Type\n1    211840\n2    283301\n3     35754\n4      2747\n5      9493\n6     17367\n7     20510\ndtype: int64"
          },
          "metadata": {}
        }
      ]
    },
    {
      "metadata": {
        "trusted": true,
        "_uuid": "815de9b5d740a4253ac97ecdd0f7acf637f29d31"
      },
      "cell_type": "code",
      "source": "df['OUTPUT_LABEL'] = df['Cover_Type'].apply(lambda x: x != '4')",
      "execution_count": 7,
      "outputs": []
    },
    {
      "metadata": {
        "trusted": true,
        "_uuid": "ff87ae512e343e5bafdb7c585cce04b3bd699772"
      },
      "cell_type": "code",
      "source": "print('Number of columns:',len(df.columns))",
      "execution_count": 8,
      "outputs": [
        {
          "output_type": "stream",
          "text": "Number of columns: 56\n",
          "name": "stdout"
        }
      ]
    },
    {
      "metadata": {
        "trusted": true,
        "_uuid": "186b20b5f39abcbec665539c4623d5d9f6710736"
      },
      "cell_type": "code",
      "source": "df[list(df.columns)[:10]].head()",
      "execution_count": 9,
      "outputs": [
        {
          "output_type": "execute_result",
          "execution_count": 9,
          "data": {
            "text/plain": "   Elevation                 ...                  Horizontal_Distance_To_Fire_Points\n0       2596                 ...                                                6279\n1       2590                 ...                                                6225\n2       2804                 ...                                                6121\n3       2785                 ...                                                6211\n4       2595                 ...                                                6172\n\n[5 rows x 10 columns]",
            "text/html": "<div>\n<style scoped>\n    .dataframe tbody tr th:only-of-type {\n        vertical-align: middle;\n    }\n\n    .dataframe tbody tr th {\n        vertical-align: top;\n    }\n\n    .dataframe thead th {\n        text-align: right;\n    }\n</style>\n<table border=\"1\" class=\"dataframe\">\n  <thead>\n    <tr style=\"text-align: right;\">\n      <th></th>\n      <th>Elevation</th>\n      <th>Aspect</th>\n      <th>Slope</th>\n      <th>Horizontal_Distance_To_Hydrology</th>\n      <th>Vertical_Distance_To_Hydrology</th>\n      <th>Horizontal_Distance_To_Roadways</th>\n      <th>Hillshade_9am</th>\n      <th>Hillshade_Noon</th>\n      <th>Hillshade_3pm</th>\n      <th>Horizontal_Distance_To_Fire_Points</th>\n    </tr>\n  </thead>\n  <tbody>\n    <tr>\n      <th>0</th>\n      <td>2596</td>\n      <td>51</td>\n      <td>3</td>\n      <td>258</td>\n      <td>0</td>\n      <td>510</td>\n      <td>221</td>\n      <td>232</td>\n      <td>148</td>\n      <td>6279</td>\n    </tr>\n    <tr>\n      <th>1</th>\n      <td>2590</td>\n      <td>56</td>\n      <td>2</td>\n      <td>212</td>\n      <td>-6</td>\n      <td>390</td>\n      <td>220</td>\n      <td>235</td>\n      <td>151</td>\n      <td>6225</td>\n    </tr>\n    <tr>\n      <th>2</th>\n      <td>2804</td>\n      <td>139</td>\n      <td>9</td>\n      <td>268</td>\n      <td>65</td>\n      <td>3180</td>\n      <td>234</td>\n      <td>238</td>\n      <td>135</td>\n      <td>6121</td>\n    </tr>\n    <tr>\n      <th>3</th>\n      <td>2785</td>\n      <td>155</td>\n      <td>18</td>\n      <td>242</td>\n      <td>118</td>\n      <td>3090</td>\n      <td>238</td>\n      <td>238</td>\n      <td>122</td>\n      <td>6211</td>\n    </tr>\n    <tr>\n      <th>4</th>\n      <td>2595</td>\n      <td>45</td>\n      <td>2</td>\n      <td>153</td>\n      <td>-1</td>\n      <td>391</td>\n      <td>220</td>\n      <td>234</td>\n      <td>150</td>\n      <td>6172</td>\n    </tr>\n  </tbody>\n</table>\n</div>"
          },
          "metadata": {}
        }
      ]
    },
    {
      "metadata": {
        "trusted": true,
        "_uuid": "bb7867905c6eec09e4c2e75c4c230312bf19fc15"
      },
      "cell_type": "code",
      "source": "df[list(df.columns)[10:20]].head()",
      "execution_count": 10,
      "outputs": [
        {
          "output_type": "execute_result",
          "execution_count": 10,
          "data": {
            "text/plain": "   Wilderness_Area1  Wilderness_Area2     ...      Soil_Type5  Soil_Type6\n0                 1                 0     ...               0           0\n1                 1                 0     ...               0           0\n2                 1                 0     ...               0           0\n3                 1                 0     ...               0           0\n4                 1                 0     ...               0           0\n\n[5 rows x 10 columns]",
            "text/html": "<div>\n<style scoped>\n    .dataframe tbody tr th:only-of-type {\n        vertical-align: middle;\n    }\n\n    .dataframe tbody tr th {\n        vertical-align: top;\n    }\n\n    .dataframe thead th {\n        text-align: right;\n    }\n</style>\n<table border=\"1\" class=\"dataframe\">\n  <thead>\n    <tr style=\"text-align: right;\">\n      <th></th>\n      <th>Wilderness_Area1</th>\n      <th>Wilderness_Area2</th>\n      <th>Wilderness_Area3</th>\n      <th>Wilderness_Area4</th>\n      <th>Soil_Type1</th>\n      <th>Soil_Type2</th>\n      <th>Soil_Type3</th>\n      <th>Soil_Type4</th>\n      <th>Soil_Type5</th>\n      <th>Soil_Type6</th>\n    </tr>\n  </thead>\n  <tbody>\n    <tr>\n      <th>0</th>\n      <td>1</td>\n      <td>0</td>\n      <td>0</td>\n      <td>0</td>\n      <td>0</td>\n      <td>0</td>\n      <td>0</td>\n      <td>0</td>\n      <td>0</td>\n      <td>0</td>\n    </tr>\n    <tr>\n      <th>1</th>\n      <td>1</td>\n      <td>0</td>\n      <td>0</td>\n      <td>0</td>\n      <td>0</td>\n      <td>0</td>\n      <td>0</td>\n      <td>0</td>\n      <td>0</td>\n      <td>0</td>\n    </tr>\n    <tr>\n      <th>2</th>\n      <td>1</td>\n      <td>0</td>\n      <td>0</td>\n      <td>0</td>\n      <td>0</td>\n      <td>0</td>\n      <td>0</td>\n      <td>0</td>\n      <td>0</td>\n      <td>0</td>\n    </tr>\n    <tr>\n      <th>3</th>\n      <td>1</td>\n      <td>0</td>\n      <td>0</td>\n      <td>0</td>\n      <td>0</td>\n      <td>0</td>\n      <td>0</td>\n      <td>0</td>\n      <td>0</td>\n      <td>0</td>\n    </tr>\n    <tr>\n      <th>4</th>\n      <td>1</td>\n      <td>0</td>\n      <td>0</td>\n      <td>0</td>\n      <td>0</td>\n      <td>0</td>\n      <td>0</td>\n      <td>0</td>\n      <td>0</td>\n      <td>0</td>\n    </tr>\n  </tbody>\n</table>\n</div>"
          },
          "metadata": {}
        }
      ]
    },
    {
      "metadata": {
        "trusted": true,
        "_uuid": "7dd77e4c2d5b9b400c2528e7539c1e8d30c958b2"
      },
      "cell_type": "code",
      "source": "df[list(df.columns)[30:40]].head()",
      "execution_count": 11,
      "outputs": [
        {
          "output_type": "execute_result",
          "execution_count": 11,
          "data": {
            "text/plain": "   Soil_Type17  Soil_Type18     ...       Soil_Type25  Soil_Type26\n0            0            0     ...                 0            0\n1            0            0     ...                 0            0\n2            0            0     ...                 0            0\n3            0            0     ...                 0            0\n4            0            0     ...                 0            0\n\n[5 rows x 10 columns]",
            "text/html": "<div>\n<style scoped>\n    .dataframe tbody tr th:only-of-type {\n        vertical-align: middle;\n    }\n\n    .dataframe tbody tr th {\n        vertical-align: top;\n    }\n\n    .dataframe thead th {\n        text-align: right;\n    }\n</style>\n<table border=\"1\" class=\"dataframe\">\n  <thead>\n    <tr style=\"text-align: right;\">\n      <th></th>\n      <th>Soil_Type17</th>\n      <th>Soil_Type18</th>\n      <th>Soil_Type19</th>\n      <th>Soil_Type20</th>\n      <th>Soil_Type21</th>\n      <th>Soil_Type22</th>\n      <th>Soil_Type23</th>\n      <th>Soil_Type24</th>\n      <th>Soil_Type25</th>\n      <th>Soil_Type26</th>\n    </tr>\n  </thead>\n  <tbody>\n    <tr>\n      <th>0</th>\n      <td>0</td>\n      <td>0</td>\n      <td>0</td>\n      <td>0</td>\n      <td>0</td>\n      <td>0</td>\n      <td>0</td>\n      <td>0</td>\n      <td>0</td>\n      <td>0</td>\n    </tr>\n    <tr>\n      <th>1</th>\n      <td>0</td>\n      <td>0</td>\n      <td>0</td>\n      <td>0</td>\n      <td>0</td>\n      <td>0</td>\n      <td>0</td>\n      <td>0</td>\n      <td>0</td>\n      <td>0</td>\n    </tr>\n    <tr>\n      <th>2</th>\n      <td>0</td>\n      <td>0</td>\n      <td>0</td>\n      <td>0</td>\n      <td>0</td>\n      <td>0</td>\n      <td>0</td>\n      <td>0</td>\n      <td>0</td>\n      <td>0</td>\n    </tr>\n    <tr>\n      <th>3</th>\n      <td>0</td>\n      <td>0</td>\n      <td>0</td>\n      <td>0</td>\n      <td>0</td>\n      <td>0</td>\n      <td>0</td>\n      <td>0</td>\n      <td>0</td>\n      <td>0</td>\n    </tr>\n    <tr>\n      <th>4</th>\n      <td>0</td>\n      <td>0</td>\n      <td>0</td>\n      <td>0</td>\n      <td>0</td>\n      <td>0</td>\n      <td>0</td>\n      <td>0</td>\n      <td>0</td>\n      <td>0</td>\n    </tr>\n  </tbody>\n</table>\n</div>"
          },
          "metadata": {}
        }
      ]
    },
    {
      "metadata": {
        "trusted": true,
        "_uuid": "ed48a4f1af7579194455b6f163b6279f52bc7e67"
      },
      "cell_type": "code",
      "source": "df[list(df.columns)[40:]].head()",
      "execution_count": 12,
      "outputs": [
        {
          "output_type": "execute_result",
          "execution_count": 12,
          "data": {
            "text/plain": "   Soil_Type27  Soil_Type28      ...       Cover_Type  OUTPUT_LABEL\n0            0            0      ...                5          True\n1            0            0      ...                5          True\n2            0            0      ...                2          True\n3            0            0      ...                2          True\n4            0            0      ...                5          True\n\n[5 rows x 16 columns]",
            "text/html": "<div>\n<style scoped>\n    .dataframe tbody tr th:only-of-type {\n        vertical-align: middle;\n    }\n\n    .dataframe tbody tr th {\n        vertical-align: top;\n    }\n\n    .dataframe thead th {\n        text-align: right;\n    }\n</style>\n<table border=\"1\" class=\"dataframe\">\n  <thead>\n    <tr style=\"text-align: right;\">\n      <th></th>\n      <th>Soil_Type27</th>\n      <th>Soil_Type28</th>\n      <th>Soil_Type29</th>\n      <th>Soil_Type30</th>\n      <th>Soil_Type31</th>\n      <th>Soil_Type32</th>\n      <th>Soil_Type33</th>\n      <th>Soil_Type34</th>\n      <th>Soil_Type35</th>\n      <th>Soil_Type36</th>\n      <th>Soil_Type37</th>\n      <th>Soil_Type38</th>\n      <th>Soil_Type39</th>\n      <th>Soil_Type40</th>\n      <th>Cover_Type</th>\n      <th>OUTPUT_LABEL</th>\n    </tr>\n  </thead>\n  <tbody>\n    <tr>\n      <th>0</th>\n      <td>0</td>\n      <td>0</td>\n      <td>1</td>\n      <td>0</td>\n      <td>0</td>\n      <td>0</td>\n      <td>0</td>\n      <td>0</td>\n      <td>0</td>\n      <td>0</td>\n      <td>0</td>\n      <td>0</td>\n      <td>0</td>\n      <td>0</td>\n      <td>5</td>\n      <td>True</td>\n    </tr>\n    <tr>\n      <th>1</th>\n      <td>0</td>\n      <td>0</td>\n      <td>1</td>\n      <td>0</td>\n      <td>0</td>\n      <td>0</td>\n      <td>0</td>\n      <td>0</td>\n      <td>0</td>\n      <td>0</td>\n      <td>0</td>\n      <td>0</td>\n      <td>0</td>\n      <td>0</td>\n      <td>5</td>\n      <td>True</td>\n    </tr>\n    <tr>\n      <th>2</th>\n      <td>0</td>\n      <td>0</td>\n      <td>0</td>\n      <td>0</td>\n      <td>0</td>\n      <td>0</td>\n      <td>0</td>\n      <td>0</td>\n      <td>0</td>\n      <td>0</td>\n      <td>0</td>\n      <td>0</td>\n      <td>0</td>\n      <td>0</td>\n      <td>2</td>\n      <td>True</td>\n    </tr>\n    <tr>\n      <th>3</th>\n      <td>0</td>\n      <td>0</td>\n      <td>0</td>\n      <td>1</td>\n      <td>0</td>\n      <td>0</td>\n      <td>0</td>\n      <td>0</td>\n      <td>0</td>\n      <td>0</td>\n      <td>0</td>\n      <td>0</td>\n      <td>0</td>\n      <td>0</td>\n      <td>2</td>\n      <td>True</td>\n    </tr>\n    <tr>\n      <th>4</th>\n      <td>0</td>\n      <td>0</td>\n      <td>1</td>\n      <td>0</td>\n      <td>0</td>\n      <td>0</td>\n      <td>0</td>\n      <td>0</td>\n      <td>0</td>\n      <td>0</td>\n      <td>0</td>\n      <td>0</td>\n      <td>0</td>\n      <td>0</td>\n      <td>5</td>\n      <td>True</td>\n    </tr>\n  </tbody>\n</table>\n</div>"
          },
          "metadata": {}
        }
      ]
    },
    {
      "metadata": {
        "trusted": true,
        "_uuid": "476c7c7071d47ea8d44b485cdd2a930f85d940d1"
      },
      "cell_type": "code",
      "source": "# for each column\nfor c in list(df.columns):\n    \n    # get a list of unique values\n    n = df[c].unique()\n    \n    # if number of unique values is less than 30, print the values. Otherwise print the number of unique values\n    if len(n)<30:\n        print(c)\n        print(n)\n    else:\n        print(c + ': ' +str(len(n)) + ' unique values')",
      "execution_count": 13,
      "outputs": [
        {
          "output_type": "stream",
          "text": "Elevation: 1978 unique values\nAspect: 361 unique values\nSlope: 67 unique values\nHorizontal_Distance_To_Hydrology: 551 unique values\nVertical_Distance_To_Hydrology: 700 unique values\nHorizontal_Distance_To_Roadways: 5785 unique values\nHillshade_9am: 207 unique values\nHillshade_Noon: 185 unique values\nHillshade_3pm: 255 unique values\nHorizontal_Distance_To_Fire_Points: 5827 unique values\nWilderness_Area1\n[1 0]\nWilderness_Area2\n[0 1]\nWilderness_Area3\n[0 1]\nWilderness_Area4\n[0 1]\nSoil_Type1\n[0 1]\nSoil_Type2\n[0 1]\nSoil_Type3\n[0 1]\nSoil_Type4\n[0 1]\nSoil_Type5\n[0 1]\nSoil_Type6\n[0 1]\nSoil_Type7\n[0 1]\nSoil_Type8\n[0 1]\nSoil_Type9\n[0 1]\nSoil_Type10\n[0 1]\nSoil_Type11\n[0 1]\nSoil_Type12\n[0 1]\nSoil_Type13\n[0 1]\nSoil_Type14\n[0 1]\nSoil_Type15\n[0 1]\nSoil_Type16\n[0 1]\nSoil_Type17\n[0 1]\nSoil_Type18\n[0 1]\nSoil_Type19\n[0 1]\nSoil_Type20\n[0 1]\nSoil_Type21\n[0 1]\nSoil_Type22\n[0 1]\nSoil_Type23\n[0 1]\nSoil_Type24\n[0 1]\nSoil_Type25\n[0 1]\nSoil_Type26\n[0 1]\nSoil_Type27\n[0 1]\nSoil_Type28\n[0 1]\nSoil_Type29\n[1 0]\nSoil_Type30\n[0 1]\nSoil_Type31\n[0 1]\nSoil_Type32\n[0 1]\nSoil_Type33\n[0 1]\nSoil_Type34\n[0 1]\nSoil_Type35\n[0 1]\nSoil_Type36\n[0 1]\nSoil_Type37\n[0 1]\nSoil_Type38\n[0 1]\nSoil_Type39\n[0 1]\nSoil_Type40\n[0 1]\nCover_Type\n[5 2 1 7 3 6 4]\nOUTPUT_LABEL\n[ True]\n",
          "name": "stdout"
        }
      ]
    },
    {
      "metadata": {
        "trusted": true,
        "_uuid": "4af2a7752612538867a07247533e0ec4d4b5e7dd"
      },
      "cell_type": "code",
      "source": "cols_num= ['Elevation', 'Aspect', 'Slope', 'Horizontal_Distance_To_Hydrology', 'Vertical_Distance_To_Hydrology', 'Horizontal_Distance_To_Roadways', \n                 'Hillshade_9am', 'Hillshade_Noon', 'Hillshade_3pm', 'Horizontal_Distance_To_Fire_Points', 'Wilderness_Area1', 'Wilderness_Area2', \n                'Wilderness_Area3', 'Wilderness_Area4', 'Soil_Type1', 'Soil_Type2', 'Soil_Type3', 'Soil_Type4', 'Soil_Type5', 'Soil_Type6', 'Soil_Type7',\n                'Soil_Type8', 'Soil_Type9', 'Soil_Type10', 'Soil_Type11', 'Soil_Type12', 'Soil_Type13', 'Soil_Type14', 'Soil_Type15', 'Soil_Type16', \n                 'Soil_Type17', 'Soil_Type18', 'Soil_Type19', 'Soil_Type20', 'Soil_Type21', 'Soil_Type22', 'Soil_Type23', 'Soil_Type24', 'Soil_Type25', \n                 'Soil_Type26', 'Soil_Type27', 'Soil_Type28', 'Soil_Type29', 'Soil_Type30', 'Soil_Type31', 'Soil_Type32', 'Soil_Type33', 'Soil_Type34', \n                 'Soil_Type35', 'Soil_Type36', 'Soil_Type37', 'Soil_Type38', 'Soil_Type39', 'Soil_Type40', 'Cover_Type']",
      "execution_count": 14,
      "outputs": []
    },
    {
      "metadata": {
        "trusted": true,
        "_uuid": "f5c5c933e6f08ace245150f3a56f517a76f2e9d7"
      },
      "cell_type": "code",
      "source": "df[cols_num].isnull().sum()",
      "execution_count": 15,
      "outputs": [
        {
          "output_type": "execute_result",
          "execution_count": 15,
          "data": {
            "text/plain": "Elevation                             0\nAspect                                0\nSlope                                 0\nHorizontal_Distance_To_Hydrology      0\nVertical_Distance_To_Hydrology        0\nHorizontal_Distance_To_Roadways       0\nHillshade_9am                         0\nHillshade_Noon                        0\nHillshade_3pm                         0\nHorizontal_Distance_To_Fire_Points    0\nWilderness_Area1                      0\nWilderness_Area2                      0\nWilderness_Area3                      0\nWilderness_Area4                      0\nSoil_Type1                            0\nSoil_Type2                            0\nSoil_Type3                            0\nSoil_Type4                            0\nSoil_Type5                            0\nSoil_Type6                            0\nSoil_Type7                            0\nSoil_Type8                            0\nSoil_Type9                            0\nSoil_Type10                           0\nSoil_Type11                           0\nSoil_Type12                           0\nSoil_Type13                           0\nSoil_Type14                           0\nSoil_Type15                           0\nSoil_Type16                           0\nSoil_Type17                           0\nSoil_Type18                           0\nSoil_Type19                           0\nSoil_Type20                           0\nSoil_Type21                           0\nSoil_Type22                           0\nSoil_Type23                           0\nSoil_Type24                           0\nSoil_Type25                           0\nSoil_Type26                           0\nSoil_Type27                           0\nSoil_Type28                           0\nSoil_Type29                           0\nSoil_Type30                           0\nSoil_Type31                           0\nSoil_Type32                           0\nSoil_Type33                           0\nSoil_Type34                           0\nSoil_Type35                           0\nSoil_Type36                           0\nSoil_Type37                           0\nSoil_Type38                           0\nSoil_Type39                           0\nSoil_Type40                           0\nCover_Type                            0\ndtype: int64"
          },
          "metadata": {}
        }
      ]
    },
    {
      "metadata": {
        "trusted": true,
        "_uuid": "97e9c00e22eb6eb88fb835ac256fb32128a7d3f9"
      },
      "cell_type": "code",
      "source": "# shuffle the samples\ndf= df.sample(n = len(df), random_state = 42)\ndf = df.reset_index(drop = True)",
      "execution_count": 16,
      "outputs": []
    },
    {
      "metadata": {
        "trusted": true,
        "_uuid": "e6f644b6dd3939d347a662214ac09e2ce5e0ea5c"
      },
      "cell_type": "code",
      "source": "# Save 30% of the data as validation and test data \ndf_valid_test=df.sample(frac=0.30,random_state=42)\nprint('Split size: %.3f'%(len(df_valid_test)/len(df)))",
      "execution_count": 17,
      "outputs": [
        {
          "output_type": "stream",
          "text": "Split size: 0.300\n",
          "name": "stdout"
        }
      ]
    },
    {
      "metadata": {
        "trusted": true,
        "_uuid": "3df55ddc35f3fd1b8a57af2077fdd89914a7076a"
      },
      "cell_type": "code",
      "source": "df_test = df_valid_test.sample(frac = 0.5, random_state = 42)\ndf_valid = df_valid_test.drop(df_test.index)",
      "execution_count": 18,
      "outputs": []
    },
    {
      "metadata": {
        "trusted": true,
        "_uuid": "367548e4ef04945bfbf312fd0f18895d9cebaec8"
      },
      "cell_type": "code",
      "source": "# use the rest of the data as training data\ndf_train_all=df.drop(df_valid_test.index)",
      "execution_count": 19,
      "outputs": []
    },
    {
      "metadata": {
        "trusted": true,
        "_uuid": "0d00e875443fd4654d526d12af0cc8f30eb71c37"
      },
      "cell_type": "code",
      "source": "def calc_prevalence(y_actual):\n    return (sum(y_actual)/len(y_actual))",
      "execution_count": 20,
      "outputs": []
    },
    {
      "metadata": {
        "trusted": true,
        "_uuid": "8881544e8efa0e1e192ef068c0eb03c1cd1e194a"
      },
      "cell_type": "code",
      "source": "print('Test prevalence(n = %d):%.3f'%(len(df_test),calc_prevalence(df_test.OUTPUT_LABEL.values)))\nprint('Valid prevalence(n = %d):%.3f'%(len(df_valid),calc_prevalence(df_valid.OUTPUT_LABEL.values)))\nprint('Train all prevalence(n = %d):%.3f'%(len(df_train_all), calc_prevalence(df_train_all.OUTPUT_LABEL.values)))",
      "execution_count": 21,
      "outputs": [
        {
          "output_type": "stream",
          "text": "Test prevalence(n = 87152):1.000\nValid prevalence(n = 87152):1.000\nTrain all prevalence(n = 406708):1.000\n",
          "name": "stdout"
        }
      ]
    },
    {
      "metadata": {
        "trusted": true,
        "_uuid": "c972098e7f83d3fb490e81dbf353f8caddece8ba"
      },
      "cell_type": "code",
      "source": "print('all samples (n = %d)'%len(df))\nassert len(df) == (len(df_test)+len(df_valid)+len(df_train_all)),'math didnt work'",
      "execution_count": 22,
      "outputs": [
        {
          "output_type": "stream",
          "text": "all samples (n = 581012)\n",
          "name": "stdout"
        }
      ]
    },
    {
      "metadata": {
        "trusted": true,
        "_uuid": "711fa974d9a206969a4d8d393859c07b6add4b2c"
      },
      "cell_type": "code",
      "source": "df_train_all.to_csv('df_train_all.csv',index=False)\ndf_valid.to_csv('df_valid.csv',index=False)\ndf_test.to_csv('df_test.csv',index=False)",
      "execution_count": 23,
      "outputs": []
    },
    {
      "metadata": {
        "trusted": true,
        "_uuid": "de5182269b29ee50e2857aeff670ed6775307b17"
      },
      "cell_type": "code",
      "source": "import pandas as pd\nimport matplotlib.pyplot as plt",
      "execution_count": 24,
      "outputs": []
    },
    {
      "metadata": {
        "trusted": true,
        "_uuid": "08f15a4bb9b34bec86b2b0dba4ed56ac41a31328"
      },
      "cell_type": "code",
      "source": "def calc_prevalence(y_actual):\n    return (sum(y_actual)/len(y_actual))",
      "execution_count": 25,
      "outputs": []
    },
    {
      "metadata": {
        "trusted": true,
        "_uuid": "9c03daa519ccf7a5a6cff7c24db0de95a8241882"
      },
      "cell_type": "code",
      "source": "df_train_all = pd.read_csv('df_train_all.csv')\ndf_valid= pd.read_csv('df_valid.csv')",
      "execution_count": 26,
      "outputs": []
    },
    {
      "metadata": {
        "trusted": true,
        "_uuid": "1c05f9848cbe53233964d455ddb790970279419a"
      },
      "cell_type": "code",
      "source": "print('Valid prevalence(n = %d):%.3f'%(len(df_valid),calc_prevalence(df_valid.OUTPUT_LABEL.values)))\nprint('Train all prevalence(n = %d):%.3f'%(len(df_train_all), calc_prevalence(df_train_all.OUTPUT_LABEL.values)))",
      "execution_count": 27,
      "outputs": [
        {
          "output_type": "stream",
          "text": "Valid prevalence(n = 87152):1.000\nTrain all prevalence(n = 406708):1.000\n",
          "name": "stdout"
        }
      ]
    },
    {
      "metadata": {
        "trusted": true,
        "_uuid": "e857db27e4182abc1dc8f3113755cdb3801c0c13"
      },
      "cell_type": "code",
      "source": "col2use = [c for c in list(df_train_all.columns) if c != 'OUTPUT_LABEL']\nprint('Number of columns to use:', len(col2use))",
      "execution_count": 28,
      "outputs": [
        {
          "output_type": "stream",
          "text": "Number of columns to use: 55\n",
          "name": "stdout"
        }
      ]
    },
    {
      "metadata": {
        "trusted": true,
        "_uuid": "3400e7074e408788ad3a2ff4001ed1dfa06af8d6"
      },
      "cell_type": "code",
      "source": "df_mean = df_train_all[col2use].mean(axis = 0)",
      "execution_count": 29,
      "outputs": []
    },
    {
      "metadata": {
        "trusted": true,
        "_uuid": "0e788764cd56c6c8753750b83edbce94ef6066c1"
      },
      "cell_type": "code",
      "source": "df_mean.head()",
      "execution_count": 30,
      "outputs": [
        {
          "output_type": "execute_result",
          "execution_count": 30,
          "data": {
            "text/plain": "Elevation                           2959.234797\nAspect                               155.762896\nSlope                                 14.098171\nHorizontal_Distance_To_Hydrology     269.534413\nVertical_Distance_To_Hydrology        46.429682\ndtype: float64"
          },
          "metadata": {}
        }
      ]
    },
    {
      "metadata": {
        "trusted": true,
        "_uuid": "24016381487652507da834c1e889c8b198b1e214"
      },
      "cell_type": "code",
      "source": "# save the means\ndf_mean.to_csv('df_mean.csv',index=True)",
      "execution_count": 31,
      "outputs": []
    },
    {
      "metadata": {
        "trusted": true,
        "_uuid": "0229664cdd5531a81dbad94b0dab4cb56cf731a4"
      },
      "cell_type": "code",
      "source": "# load the means so we know how to do it for the test data\ndf_mean_in = pd.read_csv('df_mean.csv', names =['col','mean_val'])",
      "execution_count": 32,
      "outputs": []
    },
    {
      "metadata": {
        "trusted": true,
        "_uuid": "63bcc9fd37fc21856d8003aabf2ab6ad12b3ee16"
      },
      "cell_type": "code",
      "source": "df_mean_in.head()",
      "execution_count": 33,
      "outputs": [
        {
          "output_type": "execute_result",
          "execution_count": 33,
          "data": {
            "text/plain": "                                col     mean_val\n0                         Elevation  2959.234797\n1                            Aspect   155.762896\n2                             Slope    14.098171\n3  Horizontal_Distance_To_Hydrology   269.534413\n4    Vertical_Distance_To_Hydrology    46.429682",
            "text/html": "<div>\n<style scoped>\n    .dataframe tbody tr th:only-of-type {\n        vertical-align: middle;\n    }\n\n    .dataframe tbody tr th {\n        vertical-align: top;\n    }\n\n    .dataframe thead th {\n        text-align: right;\n    }\n</style>\n<table border=\"1\" class=\"dataframe\">\n  <thead>\n    <tr style=\"text-align: right;\">\n      <th></th>\n      <th>col</th>\n      <th>mean_val</th>\n    </tr>\n  </thead>\n  <tbody>\n    <tr>\n      <th>0</th>\n      <td>Elevation</td>\n      <td>2959.234797</td>\n    </tr>\n    <tr>\n      <th>1</th>\n      <td>Aspect</td>\n      <td>155.762896</td>\n    </tr>\n    <tr>\n      <th>2</th>\n      <td>Slope</td>\n      <td>14.098171</td>\n    </tr>\n    <tr>\n      <th>3</th>\n      <td>Horizontal_Distance_To_Hydrology</td>\n      <td>269.534413</td>\n    </tr>\n    <tr>\n      <th>4</th>\n      <td>Vertical_Distance_To_Hydrology</td>\n      <td>46.429682</td>\n    </tr>\n  </tbody>\n</table>\n</div>"
          },
          "metadata": {}
        }
      ]
    },
    {
      "metadata": {
        "trusted": true,
        "_uuid": "bee7c734be6f3599fd42626957dadab5a8b0901f"
      },
      "cell_type": "code",
      "source": "def fill_my_missing(df, df_mean_in):\n    # This function fills the missing values\n\n    for c in col2use:\n        mean_value = df_mean_in.loc[df_mean_in.col == c,'mean_val'].values[0]\n        df[c] = df[c].fillna(mean_value)\n    return df",
      "execution_count": 34,
      "outputs": []
    },
    {
      "metadata": {
        "trusted": true,
        "_uuid": "385c75a8c19e9d8f8f3d0e69fba4a93c404dbfb1"
      },
      "cell_type": "code",
      "source": "df_train_all = fill_my_missing(df_train_all, df_mean_in)\n\ndf_valid = fill_my_missing(df_valid, df_mean_in)",
      "execution_count": 35,
      "outputs": []
    },
    {
      "metadata": {
        "trusted": true,
        "_uuid": "1e85cc7bb571082f73979d227ae49e2b5d00f67a"
      },
      "cell_type": "code",
      "source": "X_train_all = df_train_all[col2use].values\nX_valid = df_valid[col2use].values\n\ny_train_all = df_train_all['OUTPUT_LABEL'].values\ny_valid = df_valid['OUTPUT_LABEL'].values\n\nprint('Training All shapes:',X_train_all.shape)\n\nprint('Validation shapes:',X_valid.shape, y_valid.shape)",
      "execution_count": 36,
      "outputs": [
        {
          "output_type": "stream",
          "text": "Training All shapes: (406708, 55)\nValidation shapes: (87152, 55) (87152,)\n",
          "name": "stdout"
        }
      ]
    },
    {
      "metadata": {
        "trusted": true,
        "_uuid": "44f75c544d77dcc23c205d60075dd65c45c45ebe"
      },
      "cell_type": "code",
      "source": "from sklearn.preprocessing import StandardScaler\n\nscaler  = StandardScaler()\nscaler.fit(X_train_all)",
      "execution_count": 37,
      "outputs": [
        {
          "output_type": "stream",
          "text": "/opt/conda/lib/python3.6/site-packages/sklearn/utils/validation.py:590: DataConversionWarning: Data with input dtype int64 was converted to float64 by StandardScaler.\n  warnings.warn(msg, DataConversionWarning)\n",
          "name": "stderr"
        },
        {
          "output_type": "execute_result",
          "execution_count": 37,
          "data": {
            "text/plain": "StandardScaler(copy=True, with_mean=True, with_std=True)"
          },
          "metadata": {}
        }
      ]
    },
    {
      "metadata": {
        "trusted": true,
        "_uuid": "397f2c469bf607ef3393875e5236434084908876"
      },
      "cell_type": "code",
      "source": "import pickle\nscalerfile = 'scaler.sav'\npickle.dump(scaler, open(scalerfile, 'wb'))",
      "execution_count": 38,
      "outputs": []
    },
    {
      "metadata": {
        "trusted": true,
        "_uuid": "85658f8e783bb3907d550c586da4bb4ce8843767"
      },
      "cell_type": "code",
      "source": "scaler = pickle.load(open(scalerfile, 'rb'))",
      "execution_count": 39,
      "outputs": []
    },
    {
      "metadata": {
        "trusted": true,
        "_uuid": "b6b80a407ee863bc05351101c52eb15c941eb350"
      },
      "cell_type": "code",
      "source": "X_train_tf = scaler.transform(X_train_all)\nX_valid_tf = scaler.transform(X_valid)",
      "execution_count": 40,
      "outputs": [
        {
          "output_type": "stream",
          "text": "/opt/conda/lib/python3.6/site-packages/sklearn/utils/validation.py:590: DataConversionWarning: Data with input dtype int64 was converted to float64 by StandardScaler.\n  warnings.warn(msg, DataConversionWarning)\n/opt/conda/lib/python3.6/site-packages/sklearn/utils/validation.py:590: DataConversionWarning: Data with input dtype int64 was converted to float64 by StandardScaler.\n  warnings.warn(msg, DataConversionWarning)\n",
          "name": "stderr"
        }
      ]
    },
    {
      "metadata": {
        "trusted": true,
        "_uuid": "eb2e2e9a7d5576e9dec6b64e35bed120ee0a73ac"
      },
      "cell_type": "code",
      "source": "from sklearn.metrics import roc_auc_score, accuracy_score, precision_score, recall_score\ndef calc_specificity(y_actual, y_pred, thresh):\n    # calculates specificity\n    return sum((y_pred < thresh) & (y_actual == 0)) /sum(y_actual ==0)\n\ndef print_report(y_actual, y_pred, thresh):\n    \n    auc = roc_auc_score(y_actual, y_pred)\n    accuracy = accuracy_score(y_actual, (y_pred > thresh))\n    recall = recall_score(y_actual, (y_pred > thresh))\n    precision = precision_score(y_actual, (y_pred > thresh))\n    specificity = calc_specificity(y_actual, y_pred, thresh)\n    print('AUC:%.3f'%auc)\n    print('accuracy:%.3f'%accuracy)\n    print('recall:%.3f'%recall)\n    print('precision:%.3f'%precision)\n    print('specificity:%.3f'%specificity)\n    print('prevalence:%.3f'%calc_prevalence(y_actual))\n    print(' ')\n    return auc, accuracy, recall, precision, specificity ",
      "execution_count": 41,
      "outputs": []
    },
    {
      "metadata": {
        "trusted": true,
        "_uuid": "c70a7f54119f689442d8b25c9da9a76b69099cc6"
      },
      "cell_type": "code",
      "source": "thresh = 0.5",
      "execution_count": 42,
      "outputs": []
    },
    {
      "metadata": {
        "trusted": true,
        "_uuid": "541755a65a340ffe7caaeecbbfd4d0029db7ff56"
      },
      "cell_type": "code",
      "source": "import numpy as np\ny_train_new = y_train_all.ravel()",
      "execution_count": 57,
      "outputs": []
    },
    {
      "metadata": {
        "trusted": true,
        "_uuid": "d3889be13f66ee9204057305f4f427700600fe23"
      },
      "cell_type": "code",
      "source": "from sklearn.preprocessing import LabelEncoder\nfrom sklearn.preprocessing import OneHotEncoder\nle = LabelEncoder()\nle.fit(y_train_new)\nle.classes_\ny_train_transformed = le.transform(y_train_new)\nle.inverse_transform(le.transform(y_train_new))\nprint(y_train_transformed)",
      "execution_count": 63,
      "outputs": [
        {
          "output_type": "stream",
          "text": "[0 0 0 ... 0 0 0]\n",
          "name": "stdout"
        }
      ]
    },
    {
      "metadata": {
        "trusted": true,
        "_uuid": "c1bec5a8c4c46058c483fcfe4e48764256777bc7"
      },
      "cell_type": "code",
      "source": "from sklearn.metrics import roc_auc_score\nfrom sklearn.cross_validation import cross_val_predict\nfrom sklearn.linear_model import LogisticRegression\nfrom sklearn.datasets import make_classification\n\n\nclass ProbaEstimator(LogisticRegression):\n    \"\"\"\n    This little hack needed, because `cross_val_predict`\n    uses `estimator.predict(X)` internally.\n\n    Replace `LogisticRegression` with whatever classifier you like.\n\n    \"\"\"\n    def predict(self, X):\n        return super(self.__class__, self).predict_proba(X)[:, 1]\n\n\n# some example data\nX, y = make_classification()\n\n# define your estimator\nestimator = ProbaEstimator()\n\n# get predictions\npred = cross_val_predict(estimator, X, y, cv=5)\n\n# compute AUC score\nroc1= roc_auc_score(y, pred)\nroc1",
      "execution_count": 90,
      "outputs": [
        {
          "output_type": "stream",
          "text": "/opt/conda/lib/python3.6/site-packages/sklearn/linear_model/logistic.py:432: FutureWarning: Default solver will be changed to 'lbfgs' in 0.22. Specify a solver to silence this warning.\n  FutureWarning)\n/opt/conda/lib/python3.6/site-packages/sklearn/linear_model/logistic.py:432: FutureWarning: Default solver will be changed to 'lbfgs' in 0.22. Specify a solver to silence this warning.\n  FutureWarning)\n/opt/conda/lib/python3.6/site-packages/sklearn/linear_model/logistic.py:432: FutureWarning: Default solver will be changed to 'lbfgs' in 0.22. Specify a solver to silence this warning.\n  FutureWarning)\n/opt/conda/lib/python3.6/site-packages/sklearn/linear_model/logistic.py:432: FutureWarning: Default solver will be changed to 'lbfgs' in 0.22. Specify a solver to silence this warning.\n  FutureWarning)\n/opt/conda/lib/python3.6/site-packages/sklearn/linear_model/logistic.py:432: FutureWarning: Default solver will be changed to 'lbfgs' in 0.22. Specify a solver to silence this warning.\n  FutureWarning)\n",
          "name": "stderr"
        },
        {
          "output_type": "execute_result",
          "execution_count": 90,
          "data": {
            "text/plain": "0.9919967987194878"
          },
          "metadata": {}
        }
      ]
    },
    {
      "metadata": {
        "trusted": true,
        "_uuid": "2c6c8a045d4a64bf17122537b473eba248558121"
      },
      "cell_type": "code",
      "source": "from sklearn.metrics import roc_auc_score\nfrom sklearn.cross_validation import cross_val_predict\nfrom sklearn.linear_model import SGDClassifier\nfrom sklearn.datasets import make_classification\n\n\nclass ProbaEstimator(LogisticRegression):\n    \"\"\"\n    This little hack needed, because `cross_val_predict`\n    uses `estimator.predict(X)` internally.\n\n    Replace `LogisticRegression` with whatever classifier you like.\n\n    \"\"\"\n    def predict(self, X):\n        return super(self.__class__, self).predict_proba(X)[:, 1]\n\n\n# some example data\nX, y = make_classification()\n\n# define your estimator\nestimator = ProbaEstimator()\n\n# get predictions\npred = cross_val_predict(estimator, X, y, cv=5)\n\n# compute AUC score\nroc2=roc_auc_score(y, pred)\nroc2",
      "execution_count": 91,
      "outputs": [
        {
          "output_type": "stream",
          "text": "/opt/conda/lib/python3.6/site-packages/sklearn/linear_model/logistic.py:432: FutureWarning: Default solver will be changed to 'lbfgs' in 0.22. Specify a solver to silence this warning.\n  FutureWarning)\n/opt/conda/lib/python3.6/site-packages/sklearn/linear_model/logistic.py:432: FutureWarning: Default solver will be changed to 'lbfgs' in 0.22. Specify a solver to silence this warning.\n  FutureWarning)\n/opt/conda/lib/python3.6/site-packages/sklearn/linear_model/logistic.py:432: FutureWarning: Default solver will be changed to 'lbfgs' in 0.22. Specify a solver to silence this warning.\n  FutureWarning)\n/opt/conda/lib/python3.6/site-packages/sklearn/linear_model/logistic.py:432: FutureWarning: Default solver will be changed to 'lbfgs' in 0.22. Specify a solver to silence this warning.\n  FutureWarning)\n/opt/conda/lib/python3.6/site-packages/sklearn/linear_model/logistic.py:432: FutureWarning: Default solver will be changed to 'lbfgs' in 0.22. Specify a solver to silence this warning.\n  FutureWarning)\n",
          "name": "stderr"
        },
        {
          "output_type": "execute_result",
          "execution_count": 91,
          "data": {
            "text/plain": "0.9528"
          },
          "metadata": {}
        }
      ]
    },
    {
      "metadata": {
        "trusted": true,
        "_uuid": "f8510c485a48c52bb428743d8045b67bcba72374"
      },
      "cell_type": "code",
      "source": "from sklearn.metrics import roc_auc_score\nfrom sklearn.cross_validation import cross_val_predict\nfrom sklearn.tree import DecisionTreeClassifier\nfrom sklearn.datasets import make_classification\n\n\nclass ProbaEstimator(DecisionTreeClassifier):\n    \"\"\"\n    This little hack needed, because `cross_val_predict`\n    uses `estimator.predict(X)` internally.\n\n    Replace `LogisticRegression` with whatever classifier you like.\n\n    \"\"\"\n    def predict(self, X):\n        return super(self.__class__, self).predict_proba(X)[:, 1]\n\n\n# some example data\nX, y = make_classification()\n\n# define your estimator\nestimator = ProbaEstimator()\n\n# get predictions\npred = cross_val_predict(estimator, X, y, cv=5)\n\n# compute AUC score\nroc3=roc_auc_score(y, pred)\nroc3",
      "execution_count": 92,
      "outputs": [
        {
          "output_type": "execute_result",
          "execution_count": 92,
          "data": {
            "text/plain": "0.7599999999999999"
          },
          "metadata": {}
        }
      ]
    },
    {
      "metadata": {
        "trusted": true,
        "_uuid": "75566e8e5332927822d839421a5609b9ff1ccd76"
      },
      "cell_type": "code",
      "source": "from sklearn.metrics import roc_auc_score\nfrom sklearn.cross_validation import cross_val_predict\nfrom sklearn.naive_bayes import GaussianNB\nfrom sklearn.datasets import make_classification\n\n\nclass ProbaEstimator(GaussianNB):\n    \"\"\"\n    This little hack needed, because `cross_val_predict`\n    uses `estimator.predict(X)` internally.\n\n    Replace `LogisticRegression` with whatever classifier you like.\n\n    \"\"\"\n    def predict(self, X):\n        return super(self.__class__, self).predict_proba(X)[:, 1]\n\n\n# some example data\nX, y = make_classification()\n\n# define your estimator\nestimator = ProbaEstimator()\n\n# get predictions\npred = cross_val_predict(estimator, X, y, cv=5)\n\n# compute AUC score\nroc4=roc_auc_score(y, pred)\nroc4",
      "execution_count": 94,
      "outputs": [
        {
          "output_type": "execute_result",
          "execution_count": 94,
          "data": {
            "text/plain": "0.9103641456582633"
          },
          "metadata": {}
        }
      ]
    },
    {
      "metadata": {
        "trusted": true,
        "_uuid": "d193d635bf4b0a8b9bc6bd3103d787118a90b5fc"
      },
      "cell_type": "code",
      "source": "from sklearn.metrics import roc_auc_score\nfrom sklearn.cross_validation import cross_val_predict\nfrom sklearn.ensemble import RandomForestClassifier\nfrom sklearn.datasets import make_classification\n\n\nclass ProbaEstimator(RandomForestClassifier):\n    \"\"\"\n    This little hack needed, because `cross_val_predict`\n    uses `estimator.predict(X)` internally.\n\n    Replace `LogisticRegression` with whatever classifier you like.\n\n    \"\"\"\n    def predict(self, X):\n        return super(self.__class__, self).predict_proba(X)[:, 1]\n\n\n# some example data\nX, y = make_classification()\n\n# define your estimator\nestimator = ProbaEstimator()\n\n# get predictions\npred = cross_val_predict(estimator, X, y, cv=5)\n\n# compute AUC score\nroc5=roc_auc_score(y, pred)\nroc5",
      "execution_count": 95,
      "outputs": [
        {
          "output_type": "stream",
          "text": "/opt/conda/lib/python3.6/site-packages/sklearn/ensemble/forest.py:248: FutureWarning: The default value of n_estimators will change from 10 in version 0.20 to 100 in 0.22.\n  \"10 in version 0.20 to 100 in 0.22.\", FutureWarning)\n/opt/conda/lib/python3.6/site-packages/sklearn/ensemble/forest.py:248: FutureWarning: The default value of n_estimators will change from 10 in version 0.20 to 100 in 0.22.\n  \"10 in version 0.20 to 100 in 0.22.\", FutureWarning)\n/opt/conda/lib/python3.6/site-packages/sklearn/ensemble/forest.py:248: FutureWarning: The default value of n_estimators will change from 10 in version 0.20 to 100 in 0.22.\n  \"10 in version 0.20 to 100 in 0.22.\", FutureWarning)\n/opt/conda/lib/python3.6/site-packages/sklearn/ensemble/forest.py:248: FutureWarning: The default value of n_estimators will change from 10 in version 0.20 to 100 in 0.22.\n  \"10 in version 0.20 to 100 in 0.22.\", FutureWarning)\n/opt/conda/lib/python3.6/site-packages/sklearn/ensemble/forest.py:248: FutureWarning: The default value of n_estimators will change from 10 in version 0.20 to 100 in 0.22.\n  \"10 in version 0.20 to 100 in 0.22.\", FutureWarning)\n",
          "name": "stderr"
        },
        {
          "output_type": "execute_result",
          "execution_count": 95,
          "data": {
            "text/plain": "0.9308"
          },
          "metadata": {}
        }
      ]
    },
    {
      "metadata": {
        "trusted": true,
        "_uuid": "2ff17931408363cc770e500e0e65142ff4f414be"
      },
      "cell_type": "code",
      "source": "from sklearn.metrics import roc_auc_score\nfrom sklearn.cross_validation import cross_val_predict\nfrom sklearn.ensemble import GradientBoostingClassifier\nfrom sklearn.datasets import make_classification\n\n\nclass ProbaEstimator(GradientBoostingClassifier):\n    \"\"\"\n    This little hack needed, because `cross_val_predict`\n    uses `estimator.predict(X)` internally.\n\n    Replace `LogisticRegression` with whatever classifier you like.\n\n    \"\"\"\n    def predict(self, X):\n        return super(self.__class__, self).predict_proba(X)[:, 1]\n\n\n# some example data\nX, y = make_classification()\n\n# define your estimator\nestimator = ProbaEstimator()\n\n# get predictions\npred = cross_val_predict(estimator, X, y, cv=5)\n\n# compute AUC score\nroc6= roc_auc_score(y, pred)\nroc6",
      "execution_count": 96,
      "outputs": [
        {
          "output_type": "execute_result",
          "execution_count": 96,
          "data": {
            "text/plain": "0.9633999999999999"
          },
          "metadata": {}
        }
      ]
    },
    {
      "metadata": {
        "trusted": true,
        "_uuid": "633c21b7f024ef039a2d76a98eb3d9d17811db40"
      },
      "cell_type": "code",
      "source": "df_results = pd.DataFrame({'classifier':['LogisticRegression','SGDClassifier','GaussianNB','DecisionTreeClassifier','RandomForestClassifier','GradientBoostingClassifier'] ,\n                          'auc':[roc1,2,roc3,roc4,roc5,roc6 ]})\n                          ",
      "execution_count": 97,
      "outputs": []
    },
    {
      "metadata": {
        "trusted": true,
        "_uuid": "d91676f17f60483506481aa61e5c1e6b7015d8ed"
      },
      "cell_type": "code",
      "source": "import seaborn as sns\nimport matplotlib.pyplot as plt\nsns.set(style=\"darkgrid\")",
      "execution_count": 98,
      "outputs": []
    },
    {
      "metadata": {
        "trusted": true,
        "_uuid": "59bc8916710f289d1d2648b7abe72b730bcf79bb"
      },
      "cell_type": "code",
      "source": "ax = sns.barplot(x=\"classifier\", y=\"auc\", data=df_results)\nax.set_xlabel('Classifier',fontsize = 15)\nax.set_ylabel('AUC', fontsize = 15)\nax.tick_params(labelsize=15)\n\n# Put the legend out of the figure\nplt.legend(bbox_to_anchor=(1.05, 1), loc=2, borderaxespad=0., fontsize = 15)\nplt.show()",
      "execution_count": 100,
      "outputs": [
        {
          "output_type": "stream",
          "text": "No handles with labels found to put in legend.\n",
          "name": "stderr"
        },
        {
          "output_type": "display_data",
          "data": {
            "text/plain": "<Figure size 432x288 with 1 Axes>",
            "image/png": "[encoded data removed]"
          },
          "metadata": {}
        }
      ]
    },
    {
      "metadata": {
        "trusted": true,
        "_uuid": "0483a2cdf697e7df7bf92f9245d7525141c2dec7"
      },
      "cell_type": "code",
      "source": "",
      "execution_count": null,
      "outputs": []
    }
  ],
  "metadata": {
    "kernelspec": {
      "display_name": "Python 3",
      "language": "python",
      "name": "python3"
    },
    "language_info": {
      "name": "python",
      "version": "3.6.6",
      "mimetype": "text/x-python",
      "codemirror_mode": {
        "name": "ipython",
        "version": 3
      },
      "pygments_lexer": "ipython3",
      "nbconvert_exporter": "python",
      "file_extension": ".py"
    }
  },
  "nbformat": 4,
  "nbformat_minor": 1
}