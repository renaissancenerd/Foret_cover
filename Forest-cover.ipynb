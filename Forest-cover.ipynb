{
  "cells": [
    {
      "metadata": {
        "_cell_guid": "79c7e3d0-c299-4dcb-8224-4455121ee9b0",
        "_uuid": "d629ff2d2480ee46fbb7e2d37f6b5fab8052498a",
        "trusted": true
      },
      "cell_type": "code",
      "source": "import numpy as np \nimport pandas as pd \nfrom sklearn.svm import SVC\nfrom sklearn.neighbors import KNeighborsClassifier\nfrom sklearn import metrics\nimport matplotlib.pyplot as plt",
      "execution_count": 2,
      "outputs": []
    },
    {
      "metadata": {
        "trusted": true,
        "_uuid": "a6922da6715cefc96074ead647606b776cda16f4"
      },
      "cell_type": "code",
      "source": "cover=pd.read_csv(\"../input/covtype.csv\")",
      "execution_count": 4,
      "outputs": []
    },
    {
      "metadata": {
        "trusted": true,
        "_uuid": "77eaa453cf729a1dfda53f6b9a7a07ef0811bf50"
      },
      "cell_type": "code",
      "source": "cover.info()",
      "execution_count": 5,
      "outputs": [
        {
          "output_type": "stream",
          "text": "<class 'pandas.core.frame.DataFrame'>\nRangeIndex: 581012 entries, 0 to 581011\nData columns (total 55 columns):\nElevation                             581012 non-null int64\nAspect                                581012 non-null int64\nSlope                                 581012 non-null int64\nHorizontal_Distance_To_Hydrology      581012 non-null int64\nVertical_Distance_To_Hydrology        581012 non-null int64\nHorizontal_Distance_To_Roadways       581012 non-null int64\nHillshade_9am                         581012 non-null int64\nHillshade_Noon                        581012 non-null int64\nHillshade_3pm                         581012 non-null int64\nHorizontal_Distance_To_Fire_Points    581012 non-null int64\nWilderness_Area1                      581012 non-null int64\nWilderness_Area2                      581012 non-null int64\nWilderness_Area3                      581012 non-null int64\nWilderness_Area4                      581012 non-null int64\nSoil_Type1                            581012 non-null int64\nSoil_Type2                            581012 non-null int64\nSoil_Type3                            581012 non-null int64\nSoil_Type4                            581012 non-null int64\nSoil_Type5                            581012 non-null int64\nSoil_Type6                            581012 non-null int64\nSoil_Type7                            581012 non-null int64\nSoil_Type8                            581012 non-null int64\nSoil_Type9                            581012 non-null int64\nSoil_Type10                           581012 non-null int64\nSoil_Type11                           581012 non-null int64\nSoil_Type12                           581012 non-null int64\nSoil_Type13                           581012 non-null int64\nSoil_Type14                           581012 non-null int64\nSoil_Type15                           581012 non-null int64\nSoil_Type16                           581012 non-null int64\nSoil_Type17                           581012 non-null int64\nSoil_Type18                           581012 non-null int64\nSoil_Type19                           581012 non-null int64\nSoil_Type20                           581012 non-null int64\nSoil_Type21                           581012 non-null int64\nSoil_Type22                           581012 non-null int64\nSoil_Type23                           581012 non-null int64\nSoil_Type24                           581012 non-null int64\nSoil_Type25                           581012 non-null int64\nSoil_Type26                           581012 non-null int64\nSoil_Type27                           581012 non-null int64\nSoil_Type28                           581012 non-null int64\nSoil_Type29                           581012 non-null int64\nSoil_Type30                           581012 non-null int64\nSoil_Type31                           581012 non-null int64\nSoil_Type32                           581012 non-null int64\nSoil_Type33                           581012 non-null int64\nSoil_Type34                           581012 non-null int64\nSoil_Type35                           581012 non-null int64\nSoil_Type36                           581012 non-null int64\nSoil_Type37                           581012 non-null int64\nSoil_Type38                           581012 non-null int64\nSoil_Type39                           581012 non-null int64\nSoil_Type40                           581012 non-null int64\nCover_Type                            581012 non-null int64\ndtypes: int64(55)\nmemory usage: 243.8 MB\n",
          "name": "stdout"
        }
      ]
    },
    {
      "metadata": {
        "trusted": true,
        "_uuid": "fe66a29dd8a41f6dde56acf8318dfdbb03665791"
      },
      "cell_type": "code",
      "source": "cover[\"Slope\"].where(cover[\"Slope\"]>50)",
      "execution_count": 6,
      "outputs": [
        {
          "output_type": "execute_result",
          "execution_count": 6,
          "data": {
            "text/plain": "0        NaN\n1        NaN\n2        NaN\n3        NaN\n4        NaN\n5        NaN\n6        NaN\n7        NaN\n8        NaN\n9        NaN\n10       NaN\n11       NaN\n12       NaN\n13       NaN\n14       NaN\n15       NaN\n16       NaN\n17       NaN\n18       NaN\n19       NaN\n20       NaN\n21       NaN\n22       NaN\n23       NaN\n24       NaN\n25       NaN\n26       NaN\n27       NaN\n28       NaN\n29       NaN\n          ..\n580982   NaN\n580983   NaN\n580984   NaN\n580985   NaN\n580986   NaN\n580987   NaN\n580988   NaN\n580989   NaN\n580990   NaN\n580991   NaN\n580992   NaN\n580993   NaN\n580994   NaN\n580995   NaN\n580996   NaN\n580997   NaN\n580998   NaN\n580999   NaN\n581000   NaN\n581001   NaN\n581002   NaN\n581003   NaN\n581004   NaN\n581005   NaN\n581006   NaN\n581007   NaN\n581008   NaN\n581009   NaN\n581010   NaN\n581011   NaN\nName: Slope, Length: 581012, dtype: float64"
          },
          "metadata": {}
        }
      ]
    },
    {
      "metadata": {
        "trusted": true,
        "_uuid": "844211faa7ae2cebd852e77126f956f43ab8706c"
      },
      "cell_type": "code",
      "source": "X=cover[cover.columns[0:54]]",
      "execution_count": 7,
      "outputs": []
    },
    {
      "metadata": {
        "trusted": true,
        "_uuid": "1cd8c3ef9115e3bee1be97f7f7d721ed81840dfc"
      },
      "cell_type": "code",
      "source": "Y=cover[\"Cover_Type\"]",
      "execution_count": 9,
      "outputs": []
    },
    {
      "metadata": {
        "trusted": true,
        "_uuid": "4068b2f822d205bb72581fb2e4078234c790f35d"
      },
      "cell_type": "code",
      "source": "from sklearn.ensemble import ExtraTreesClassifier",
      "execution_count": 10,
      "outputs": []
    },
    {
      "metadata": {
        "trusted": true,
        "_uuid": "fcd04bec5f3c7714f5b0c558f26cd825d5c11205"
      },
      "cell_type": "code",
      "source": "from sklearn.ensemble import ExtraTreesClassifier\nfrom sklearn.feature_selection import SelectFromModel\n\nclf = ExtraTreesClassifier()\nclf = clf.fit(X, Y)\nmodel = SelectFromModel(clf, prefit=True)\nNew_features = model.transform(X)\nmodel.get_support()\nNew_features.shape\n",
      "execution_count": 17,
      "outputs": [
        {
          "output_type": "stream",
          "text": "/opt/conda/lib/python3.6/site-packages/sklearn/ensemble/forest.py:248: FutureWarning: The default value of n_estimators will change from 10 in version 0.20 to 100 in 0.22.\n  \"10 in version 0.20 to 100 in 0.22.\", FutureWarning)\n",
          "name": "stderr"
        },
        {
          "output_type": "execute_result",
          "execution_count": 17,
          "data": {
            "text/plain": "(581012, 12)"
          },
          "metadata": {}
        }
      ]
    },
    {
      "metadata": {
        "trusted": true,
        "_uuid": "505d90aff15fd50a6261882d3a4fd34fc665b1e7"
      },
      "cell_type": "code",
      "source": "from sklearn.model_selection import train_test_split\nX_train, X_test, y_train, y_test = train_test_split(New_features, Y, test_size=0.30, random_state= 42)\n\n",
      "execution_count": 19,
      "outputs": []
    },
    {
      "metadata": {
        "trusted": true,
        "_uuid": "fb9306f83d7ca2e5964051fc932c3d5ec45fa5ac"
      },
      "cell_type": "code",
      "source": "model = KNeighborsClassifier(n_neighbors=5, weights='uniform')\nmodel.fit(X_train, y_train)",
      "execution_count": 20,
      "outputs": [
        {
          "output_type": "execute_result",
          "execution_count": 20,
          "data": {
            "text/plain": "KNeighborsClassifier(algorithm='auto', leaf_size=30, metric='minkowski',\n           metric_params=None, n_jobs=None, n_neighbors=5, p=2,\n           weights='uniform')"
          },
          "metadata": {}
        }
      ]
    },
    {
      "metadata": {
        "trusted": true,
        "_uuid": "e6cedd98d83dbd14455a6a24681d772740250411"
      },
      "cell_type": "code",
      "source": "y_pred = model.predict(X_test)\nacc_test = metrics.accuracy_score(y_test,y_pred)\nacc_test",
      "execution_count": null,
      "outputs": []
    },
    {
      "metadata": {
        "trusted": true,
        "_uuid": "dcbe3a2fd7c3256ec3e86fd9eb3f1019ebbad3c3"
      },
      "cell_type": "code",
      "source": "",
      "execution_count": null,
      "outputs": []
    }
  ],
  "metadata": {
    "kernelspec": {
      "display_name": "Python 3",
      "language": "python",
      "name": "python3"
    },
    "language_info": {
      "name": "python",
      "version": "3.6.6",
      "mimetype": "text/x-python",
      "codemirror_mode": {
        "name": "ipython",
        "version": 3
      },
      "pygments_lexer": "ipython3",
      "nbconvert_exporter": "python",
      "file_extension": ".py"
    }
  },
  "nbformat": 4,
  "nbformat_minor": 1
}